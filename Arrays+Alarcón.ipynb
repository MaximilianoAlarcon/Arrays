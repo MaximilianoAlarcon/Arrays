{
  "nbformat": 4,
  "nbformat_minor": 0,
  "metadata": {
    "colab": {
      "name": "Arrays+Alarcón.ipynb",
      "provenance": []
    },
    "kernelspec": {
      "name": "python3",
      "display_name": "Python 3"
    },
    "language_info": {
      "name": "python"
    }
  },
  "cells": [
    {
      "cell_type": "code",
      "metadata": {
        "id": "cf2yMtIdoNDy"
      },
      "source": [
        "import numpy as np\n",
        "from numpy.random import seed\n",
        "from numpy.random import randint\n",
        "from numpy import median\n",
        "from numpy import prod\n",
        "import matplotlib.pyplot as plt"
      ],
      "execution_count": null,
      "outputs": []
    },
    {
      "cell_type": "code",
      "metadata": {
        "colab": {
          "base_uri": "https://localhost:8080/"
        },
        "id": "FRknHm91ogD6",
        "outputId": "c930d479-5ff9-4fe9-f4c2-caa804703340"
      },
      "source": [
        "seed(1)\n",
        "values = randint(0, 10, 100)\n",
        "print(\"Array\")\n",
        "print(values)\n",
        "print(\"Mediana\")\n",
        "print(median(values))"
      ],
      "execution_count": null,
      "outputs": [
        {
          "output_type": "stream",
          "text": [
            "Array\n",
            "[5 8 9 5 0 0 1 7 6 9 2 4 5 2 4 2 4 7 7 9 1 7 0 6 9 9 7 6 9 1 0 1 8 8 3 9 8\n",
            " 7 3 6 5 1 9 3 4 8 1 4 0 3 9 2 0 4 9 2 7 7 9 8 6 9 3 7 7 4 5 9 3 6 8 0 2 7\n",
            " 7 9 7 3 0 8 7 7 1 1 3 0 8 6 4 5 6 2 5 7 8 4 4 7 7 4]\n",
            "Mediana\n",
            "5.5\n"
          ],
          "name": "stdout"
        }
      ]
    },
    {
      "cell_type": "code",
      "metadata": {
        "id": "utMRHgu0qHWD"
      },
      "source": [
        "def factorial(n):\n",
        "  res = 1;\n",
        "  if (n >= 0) and (type(n) == int):\n",
        "    res = int(prod(range(1,n+1)))\n",
        "    return res;\n",
        "  else:\n",
        "    print(\"No se puede calcular el factorial de \"+str(n))\n",
        "    print(\"El n° ingresado debe ser entero y mayor o igual que 0 (cero)\")\n",
        "    return None;"
      ],
      "execution_count": null,
      "outputs": []
    },
    {
      "cell_type": "code",
      "metadata": {
        "colab": {
          "base_uri": "https://localhost:8080/"
        },
        "id": "dmgvifVzqrH5",
        "outputId": "f898830e-0d4d-421e-a26d-0190e42975e5"
      },
      "source": [
        "factorial(5)"
      ],
      "execution_count": null,
      "outputs": [
        {
          "output_type": "execute_result",
          "data": {
            "text/plain": [
              "120"
            ]
          },
          "metadata": {
            "tags": []
          },
          "execution_count": 4
        }
      ]
    },
    {
      "cell_type": "code",
      "metadata": {
        "id": "yulgEXDNqvKf"
      },
      "source": [
        "def suma_de_serie(inicio, final):\n",
        "  if inicio < final:\n",
        "    if (type(inicio) == int) and (type(final) == int):\n",
        "      return np.arange(inicio,final+1).sum()\n",
        "    else:\n",
        "      print(\"Los numeros deben ser enteros\")\n",
        "  else:\n",
        "    print(\"El n° de inicio debe ser menor que el n° final\")"
      ],
      "execution_count": null,
      "outputs": []
    },
    {
      "cell_type": "code",
      "metadata": {
        "colab": {
          "base_uri": "https://localhost:8080/"
        },
        "id": "DbwlR2zsrOJ5",
        "outputId": "dec7bf4f-84c4-41e3-d8dc-ede34b298aa8"
      },
      "source": [
        "suma_de_serie(3,8)"
      ],
      "execution_count": null,
      "outputs": [
        {
          "output_type": "execute_result",
          "data": {
            "text/plain": [
              "33"
            ]
          },
          "metadata": {
            "tags": []
          },
          "execution_count": 6
        }
      ]
    },
    {
      "cell_type": "markdown",
      "metadata": {
        "id": "sWk1g1M60Voo"
      },
      "source": [
        "**Carga del dataset**"
      ]
    },
    {
      "cell_type": "code",
      "metadata": {
        "id": "SG1pv0GWsxjk"
      },
      "source": [
        "import pandas as pd"
      ],
      "execution_count": null,
      "outputs": []
    },
    {
      "cell_type": "code",
      "metadata": {
        "colab": {
          "base_uri": "https://localhost:8080/"
        },
        "id": "4padg3dyszPE",
        "outputId": "963267fd-8b04-4094-efe4-a3457cabe92b"
      },
      "source": [
        "df = pd.read_csv(\"Salarios Openqube - 2020.02.csv\")\n",
        "columna_necesaria = \"Salario mensual NETO (en tu moneda local)\"\n",
        "df[columna_necesaria].head()"
      ],
      "execution_count": null,
      "outputs": [
        {
          "output_type": "execute_result",
          "data": {
            "text/plain": [
              "0     43000\n",
              "1     63000\n",
              "2    127000\n",
              "3    102000\n",
              "4    106000\n",
              "Name: Salario mensual NETO (en tu moneda local), dtype: object"
            ]
          },
          "metadata": {
            "tags": []
          },
          "execution_count": 8
        }
      ]
    },
    {
      "cell_type": "markdown",
      "metadata": {
        "id": "xxgyTz-R0YaC"
      },
      "source": [
        "6415 filas y 81 columnas"
      ]
    },
    {
      "cell_type": "code",
      "metadata": {
        "colab": {
          "base_uri": "https://localhost:8080/"
        },
        "id": "czfF4IRPv96k",
        "outputId": "d390c3e3-5bff-4629-9703-763c9126901b"
      },
      "source": [
        "df.shape"
      ],
      "execution_count": null,
      "outputs": [
        {
          "output_type": "execute_result",
          "data": {
            "text/plain": [
              "(6415, 81)"
            ]
          },
          "metadata": {
            "tags": []
          },
          "execution_count": 9
        }
      ]
    },
    {
      "cell_type": "markdown",
      "metadata": {
        "id": "0Qh2XkE00dSA"
      },
      "source": [
        "La columna de salario neto tiene valores faltantes"
      ]
    },
    {
      "cell_type": "code",
      "metadata": {
        "colab": {
          "base_uri": "https://localhost:8080/"
        },
        "id": "na6LpuYZv0PL",
        "outputId": "c48d296c-155e-4675-e836-6db8d732cc9b"
      },
      "source": [
        "df[columna_necesaria].isnull().sum()"
      ],
      "execution_count": null,
      "outputs": [
        {
          "output_type": "execute_result",
          "data": {
            "text/plain": [
              "217"
            ]
          },
          "metadata": {
            "tags": []
          },
          "execution_count": 10
        }
      ]
    },
    {
      "cell_type": "code",
      "metadata": {
        "id": "FV1OJzi4wUUt"
      },
      "source": [
        "def imputar_faltantes_por_valor_medio(dataset, columna):\n",
        "  media = np.mean(dataset[columna])\n",
        "  dataset[columna] = dataset[columna].fillna(media)"
      ],
      "execution_count": null,
      "outputs": []
    },
    {
      "cell_type": "markdown",
      "metadata": {
        "id": "FuRi9XzN0ll-"
      },
      "source": [
        "Ademas, los sueldos estan escritos como decimales en latino america, necesito modificarlos para operar con ellos"
      ]
    },
    {
      "cell_type": "code",
      "metadata": {
        "id": "uoitp99qxJZr"
      },
      "source": [
        "def parse_float_latin_to_north_american_object(x):\n",
        "  if type(x) == str:\n",
        "    x = x.replace(\".\",\"*\")\n",
        "    x = x.replace(\",\",\".\")\n",
        "    x = x.replace(\"*\",\"\")\n",
        "  return x   "
      ],
      "execution_count": null,
      "outputs": []
    },
    {
      "cell_type": "code",
      "metadata": {
        "colab": {
          "base_uri": "https://localhost:8080/",
          "height": 35
        },
        "id": "L_l8FTjd03mE",
        "outputId": "708abac9-6131-4390-efbb-52564b284167"
      },
      "source": [
        "parse_float_latin_to_north_american_object(\"123.564,89\")"
      ],
      "execution_count": null,
      "outputs": [
        {
          "output_type": "execute_result",
          "data": {
            "application/vnd.google.colaboratory.intrinsic+json": {
              "type": "string"
            },
            "text/plain": [
              "'123564.89'"
            ]
          },
          "metadata": {
            "tags": []
          },
          "execution_count": 13
        }
      ]
    },
    {
      "cell_type": "markdown",
      "metadata": {
        "id": "Vo7NdTuo0-ur"
      },
      "source": [
        "Columna nueva \"sueldo_neto\", es el salario modificado y convertido en float"
      ]
    },
    {
      "cell_type": "code",
      "metadata": {
        "id": "Lmi0cYAny48l"
      },
      "source": [
        "df[\"sueldo_neto\"] = df[columna_necesaria].apply(parse_float_latin_to_north_american_object)\n",
        "df[\"sueldo_neto\"] = df[\"sueldo_neto\"].astype(float)"
      ],
      "execution_count": null,
      "outputs": []
    },
    {
      "cell_type": "markdown",
      "metadata": {
        "id": "378r_-dI1IKL"
      },
      "source": [
        "La distribucion del sueldo neto es una ley de potencias, quiere decir que puedo imputar los valores faltantes con la media sin alterar la distribucion"
      ]
    },
    {
      "cell_type": "code",
      "metadata": {
        "colab": {
          "base_uri": "https://localhost:8080/",
          "height": 262
        },
        "id": "gBpZCkf_zZ_G",
        "outputId": "2743cba2-67c4-4c38-fe11-1b5593c46d04"
      },
      "source": [
        "plt.figure(figsize=(23,4))\n",
        "plt.hist(df[\"sueldo_neto\"].values,log=True)\n",
        "plt.show()"
      ],
      "execution_count": null,
      "outputs": [
        {
          "output_type": "display_data",
          "data": {
            "image/png": "[encoded data removed]",
            "text/plain": [
              "<Figure size 1656x288 with 1 Axes>"
            ]
          },
          "metadata": {
            "tags": [],
            "needs_background": "light"
          }
        }
      ]
    },
    {
      "cell_type": "code",
      "metadata": {
        "id": "v8F_vSM5zoCi"
      },
      "source": [
        "imputar_faltantes_por_valor_medio(df, \"sueldo_neto\")"
      ],
      "execution_count": null,
      "outputs": []
    },
    {
      "cell_type": "markdown",
      "metadata": {
        "id": "HHVWklOk1TNB"
      },
      "source": [
        "Ya no hay faltantes"
      ]
    },
    {
      "cell_type": "code",
      "metadata": {
        "colab": {
          "base_uri": "https://localhost:8080/"
        },
        "id": "GZYpdotyy_6A",
        "outputId": "e9e32189-da1b-4f8d-b155-497b0e1a5e61"
      },
      "source": [
        "df[\"sueldo_neto\"].isnull().sum()"
      ],
      "execution_count": null,
      "outputs": [
        {
          "output_type": "execute_result",
          "data": {
            "text/plain": [
              "0"
            ]
          },
          "metadata": {
            "tags": []
          },
          "execution_count": 17
        }
      ]
    },
    {
      "cell_type": "markdown",
      "metadata": {
        "id": "y70omlPp1eeO"
      },
      "source": [
        "**Promedio**"
      ]
    },
    {
      "cell_type": "code",
      "metadata": {
        "colab": {
          "base_uri": "https://localhost:8080/"
        },
        "id": "a7H0jlc1z05R",
        "outputId": "ae6a67dc-2348-495b-ac06-9d88d46f9a8f"
      },
      "source": [
        "np.mean(df[\"sueldo_neto\"])"
      ],
      "execution_count": null,
      "outputs": [
        {
          "output_type": "execute_result",
          "data": {
            "text/plain": [
              "19365379.357857414"
            ]
          },
          "metadata": {
            "tags": []
          },
          "execution_count": 18
        }
      ]
    },
    {
      "cell_type": "markdown",
      "metadata": {
        "id": "COPmS4dh1gmO"
      },
      "source": [
        "**Mediana**"
      ]
    },
    {
      "cell_type": "code",
      "metadata": {
        "colab": {
          "base_uri": "https://localhost:8080/"
        },
        "id": "Nb9516L8z274",
        "outputId": "a773a250-4d6e-4da9-e630-ae11ad4b11ac"
      },
      "source": [
        "np.median(df[\"sueldo_neto\"])"
      ],
      "execution_count": null,
      "outputs": [
        {
          "output_type": "execute_result",
          "data": {
            "text/plain": [
              "80000.0"
            ]
          },
          "metadata": {
            "tags": []
          },
          "execution_count": 19
        }
      ]
    },
    {
      "cell_type": "markdown",
      "metadata": {
        "id": "1X18WkgY1knE"
      },
      "source": [
        "Parece que no hay ninguna relacion entre la media y la mediana"
      ]
    }
  ]
}